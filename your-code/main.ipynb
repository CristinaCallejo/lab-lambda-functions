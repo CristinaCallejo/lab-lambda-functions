{
 "cells": [
  {
   "cell_type": "markdown",
   "metadata": {},
   "source": [
    "# Before your start:\n",
    "- Read the README.md file\n",
    "- Comment as much as you can and use the resources in the README.md file\n",
    "- Happy learning!"
   ]
  },
  {
   "cell_type": "markdown",
   "metadata": {},
   "source": [
    "# Challenge 1 - Passing a Lambda Expression to a Function\n",
    "\n",
    "In the next excercise you will create a function that returns a lambda expression. Create a function called `modify_list`. The function takes two arguments, a list and a lambda expression. The function iterates through the list and applies the lambda expression to every element in the list."
   ]
  },
  {
   "cell_type": "raw",
   "metadata": {},
   "source": [
    "Follow the steps as stated below:\n",
    "    1. Define a list of any 10 numbers\n",
    "    2. Define a simple lambda expression for eg that updates a number by 2\n",
    "    3. Define an empty list\n",
    "    4. Define the function -> use the lambda function to append the empty list\n",
    "    5. Call the function with list and lambda expression\n",
    "    6. print the updated list  "
   ]
  },
  {
   "cell_type": "code",
   "execution_count": 1,
   "metadata": {},
   "outputs": [
    {
     "name": "stdout",
     "output_type": "stream",
     "text": [
      "[5, 9, 43, 10, 94, 33, 5, 21, 54, 57]\n"
     ]
    }
   ],
   "source": [
    "l = [3, 7, 41, 8, 92, 31, 3, 19, 52, 55]\n",
    "f = lambda x: x+2       \n",
    "b = []\n",
    "def modify_list(lst, fudduLambda):\n",
    "    for x in l:\n",
    "        b.append(f(x))                  \n",
    "modify_list(l,f)                       \n",
    "print(b)                              "
   ]
  },
  {
   "cell_type": "markdown",
   "metadata": {},
   "source": [
    "#### Now we will define a lambda expression that will transform the elements of the list. \n",
    "\n",
    "In the cell below, create a lambda expression that converts Celsius to Kelvin. Recall that 0°C + 273.15 = 273.15K"
   ]
  },
  {
   "cell_type": "code",
   "execution_count": 23,
   "metadata": {},
   "outputs": [
    {
     "name": "stdout",
     "output_type": "stream",
     "text": [
      "[278.15, 282.15, 316.15, 283.15, 367.15, 306.15, 278.15, 294.15, 327.15, 330.15]\n"
     ]
    }
   ],
   "source": [
    "b = [5, 9, 43, 10, 94, 33, 5, 21, 54, 57]\n",
    "f = lambda x: x + 273.15\n",
    "flst = list(map(lambda x: x + 273.15,b))\n",
    "print(flst)\n"
   ]
  },
  {
   "cell_type": "markdown",
   "metadata": {},
   "source": [
    "Finally, convert the list of temperatures below from Celsius to Kelvin."
   ]
  },
  {
   "cell_type": "code",
   "execution_count": 30,
   "metadata": {},
   "outputs": [
    {
     "name": "stdout",
     "output_type": "stream",
     "text": [
      "[285.15, 296.15, 311.15, 218.14999999999998, 297.15]\n"
     ]
    }
   ],
   "source": [
    "# Your code here:\n",
    "temps = [12, 23, 38, -55, 24]\n",
    "temp = list(map(lambda x: x + 273.15,temps))\n",
    "print(temp)"
   ]
  },
  {
   "cell_type": "markdown",
   "metadata": {},
   "source": [
    "#### In this part, we will define a function that returns a lambda expression\n",
    "\n",
    "In the cell below, write a lambda expression that takes two numbers and returns 1 if one is divisible by the other and zero otherwise. Call the lambda expression `mod`."
   ]
  },
  {
   "cell_type": "code",
   "execution_count": 127,
   "metadata": {},
   "outputs": [],
   "source": [
    "# Your code here:\n",
    "mod = lambda x,y : 1 if (x % y)== 0 or (y % x)== 0 else 0"
   ]
  },
  {
   "cell_type": "code",
   "execution_count": 128,
   "metadata": {},
   "outputs": [
    {
     "data": {
      "text/plain": [
       "1"
      ]
     },
     "execution_count": 128,
     "metadata": {},
     "output_type": "execute_result"
    }
   ],
   "source": [
    "mod(25,5)"
   ]
  },
  {
   "cell_type": "markdown",
   "metadata": {},
   "source": [
    "#### Now create a function that returns mod. The function only takes one argument - the first number in the `mod` lambda function. \n",
    "\n",
    "Note: the lambda function above took two arguments, the lambda function in the return statement only takes one argument but also uses the argument passed to the function."
   ]
  },
  {
   "cell_type": "code",
   "execution_count": 114,
   "metadata": {},
   "outputs": [],
   "source": [
    "def divisor(x): \n",
    "    \"\"\"\n",
    "    input: a number\n",
    "    output: a function that \n",
    "    returns 1 if the number is divisible by another number (to be passed later)\n",
    "    and zero otherwise\n",
    "    \"\"\"\n",
    "    #### no tiene q tener mismo num de elementos\n",
    "    # Your code here:"
   ]
  },
  {
   "cell_type": "markdown",
   "metadata": {},
   "source": [
    "def divisor(y): \n",
    "    mod = lambda x,y : 1 if (x % y)== 0 or (y % x)== 0 else 0"
   ]
  },
  {
   "cell_type": "markdown",
   "metadata": {},
   "source": [
    "divisor(5)"
   ]
  },
  {
   "cell_type": "code",
   "execution_count": 129,
   "metadata": {},
   "outputs": [
    {
     "name": "stdout",
     "output_type": "stream",
     "text": [
      "1\n"
     ]
    }
   ],
   "source": [
    "def divisor(y): \n",
    "    mod = lambda x : 1 if (x % y)== 0 or (y % x)== 0 else 0\n",
    "    return mod\n",
    "\n",
    "test = divisor(5)\n",
    "\n",
    "print(test(25))"
   ]
  },
  {
   "cell_type": "markdown",
   "metadata": {},
   "source": [
    "Finally, pass the number 5 to `divisor`. Now the function will check whether a number is divisble by 5. Assign this function to `divisible5`"
   ]
  },
  {
   "cell_type": "code",
   "execution_count": 130,
   "metadata": {},
   "outputs": [],
   "source": [
    "# Your code here: \n",
    "## no tiene que ser exactam,ente igual que el ej anteiror!\n",
    "divisible5 = divisor(5)"
   ]
  },
  {
   "cell_type": "markdown",
   "metadata": {},
   "source": [
    "Test your function with the following test cases:"
   ]
  },
  {
   "cell_type": "code",
   "execution_count": 131,
   "metadata": {},
   "outputs": [
    {
     "data": {
      "text/plain": [
       "1"
      ]
     },
     "execution_count": 131,
     "metadata": {},
     "output_type": "execute_result"
    }
   ],
   "source": [
    "divisible5(10)"
   ]
  },
  {
   "cell_type": "code",
   "execution_count": 132,
   "metadata": {},
   "outputs": [
    {
     "data": {
      "text/plain": [
       "0"
      ]
     },
     "execution_count": 132,
     "metadata": {},
     "output_type": "execute_result"
    }
   ],
   "source": [
    "divisible5(8)"
   ]
  },
  {
   "cell_type": "markdown",
   "metadata": {},
   "source": [
    "# Challenge 2 - Using Lambda Expressions in List Comprehensions\n",
    "\n",
    "In the following challenge, we will combine two lists using a lambda expression in a list comprehension. \n",
    "\n",
    "To do this, we will need to introduce the `zip` function. The `zip` function returns an iterator of tuples.\n",
    "\n",
    "The way zip function works with list has been shown below:"
   ]
  },
  {
   "cell_type": "code",
   "execution_count": 1,
   "metadata": {},
   "outputs": [
    {
     "data": {
      "text/plain": [
       "[('Green', 'eggs'),\n",
       " ('cheese', 'cheese'),\n",
       " ('English', 'cucumber'),\n",
       " ('tomato', 'tomato')]"
      ]
     },
     "execution_count": 1,
     "metadata": {},
     "output_type": "execute_result"
    }
   ],
   "source": [
    "list1 = ['Green', 'cheese', 'English', 'tomato']\n",
    "list2 = ['eggs', 'cheese', 'cucumber', 'tomato']\n",
    "zipped = zip(list1,list2)\n",
    "list(zipped)"
   ]
  },
  {
   "cell_type": "markdown",
   "metadata": {},
   "source": [
    "In this exercise we will try to compare the elements on the same index in the two lists. \n",
    "We want to zip the two lists and then use a lambda expression to compare if:\n",
    "list1 element > list2 element "
   ]
  },
  {
   "cell_type": "code",
   "execution_count": 2,
   "metadata": {},
   "outputs": [],
   "source": [
    "list1 = [1,2,3,4]\n",
    "list2 = [2,3,4,5]\n",
    "## Zip the lists together \n",
    "## Print the zipped list "
   ]
  },
  {
   "cell_type": "code",
   "execution_count": 3,
   "metadata": {},
   "outputs": [
    {
     "name": "stdout",
     "output_type": "stream",
     "text": [
      "[(1, 2), (2, 3), (3, 4), (4, 5)]\n"
     ]
    }
   ],
   "source": [
    "zipped = zip(list1,list2)\n",
    "print(list(zipped))"
   ]
  },
  {
   "cell_type": "raw",
   "metadata": {},
   "source": [
    "Complete the parts of the code marked as \"###\""
   ]
  },
  {
   "cell_type": "code",
   "execution_count": 6,
   "metadata": {},
   "outputs": [
    {
     "name": "stdout",
     "output_type": "stream",
     "text": [
      "False\n",
      "None\n",
      "False\n",
      "None\n",
      "False\n",
      "None\n",
      "False\n",
      "None\n"
     ]
    }
   ],
   "source": [
    "\n",
    "compare = lambda x,y: print(\"True\") if x > y else print(\"False\")\n",
    "for a,b in zip(list1,list2): \n",
    "    print(compare(a,b))\n",
    "    \n",
    "  "
   ]
  },
  {
   "cell_type": "code",
   "execution_count": 150,
   "metadata": {},
   "outputs": [],
   "source": [
    "# ir comparando_ decir los valores que he ido sacando arriba coon el ZIP. la lista generada x zip.\n",
    "## la,bda (valores de zip): print (True) if #uno de mis valores#  hacer algo con x1, luego con x2, luego con x 3..."
   ]
  },
  {
   "cell_type": "markdown",
   "metadata": {},
   "source": [
    "# Challenge 3 - Using Lambda Expressions as Arguments\n",
    "\n",
    "#### In this challenge, we will zip together two lists and sort by the resulting tuple.\n",
    "\n",
    "In the cell below, take the two lists provided, zip them together and sort by the first letter of the second element of each tuple. Do this using a lambda function."
   ]
  },
  {
   "cell_type": "code",
   "execution_count": 148,
   "metadata": {},
   "outputs": [],
   "source": [
    "list1 = ['Engineering', 'Computer Science', 'Political Science', 'Mathematics']\n",
    "list2 = ['Lab', 'Homework', 'Essay', 'Module']\n",
    "\n",
    "# Your code here:\n",
    "list3 = lambda zip(list1,list2)"
   ]
  },
  {
   "cell_type": "markdown",
   "metadata": {},
   "source": [
    "# Bonus Challenge - Sort a Dictionary by Values\n",
    "\n",
    "Given the dictionary below, sort it by values rather than by keys. Use a lambda function to specify the values as a sorting key."
   ]
  },
  {
   "cell_type": "code",
   "execution_count": 13,
   "metadata": {},
   "outputs": [],
   "source": [
    "d = {'Honda': 1997, 'Toyota': 1995, 'Audi': 2001, 'BMW': 2005}\n",
    "\n",
    "# Your code here:"
   ]
  },
  {
   "cell_type": "code",
   "execution_count": null,
   "metadata": {},
   "outputs": [],
   "source": [
    "#hacer tupla/dupla por el segundo elemento decirle que lo ordene por el len de elem 2?\n",
    "x[0] o x[1]"
   ]
  }
 ],
 "metadata": {
  "kernelspec": {
   "display_name": "Python 3",
   "language": "python",
   "name": "python3"
  },
  "language_info": {
   "codemirror_mode": {
    "name": "ipython",
    "version": 3
   },
   "file_extension": ".py",
   "mimetype": "text/x-python",
   "name": "python",
   "nbconvert_exporter": "python",
   "pygments_lexer": "ipython3",
   "version": "3.9.1"
  }
 },
 "nbformat": 4,
 "nbformat_minor": 2
}
